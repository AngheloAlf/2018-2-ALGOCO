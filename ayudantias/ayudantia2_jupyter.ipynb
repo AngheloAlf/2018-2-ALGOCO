{
 "cells": [
  {
   "cell_type": "markdown",
   "metadata": {},
   "source": [
    "# HYPER MEGA COMPILADO de PYTHON\n",
    "###### rev2 - Algoco 2018.2\n",
    "\n",
    "Let's review how to **properly** code in Python **3** before we jump straight to the useful data science libraries while we learn how to use Jupyter Notebooks, so uncle Claudio doesn't found us off-guard."
   ]
  },
  {
   "cell_type": "markdown",
   "metadata": {},
   "source": [
    "## Porque Python 3 y no Python 2? \n",
    "\"_si Valve no sabe contar hasta 3 yo tampoco_\"\n",
    "\n",
    "TL;DR:\n",
    ">**Python 2.x is legacy, Python 3.x is the present and future of the language**\n",
    "\n",
    "(nosotros si sabemos contar hasta 3)"
   ]
  },
  {
   "cell_type": "markdown",
   "metadata": {},
   "source": [
    "## ¿Le gusta la programación funcional? a nosotros si\n",
    "### Lambdas $\\lambda$ vs Function DEFinitions"
   ]
  },
  {
   "cell_type": "code",
   "execution_count": null,
   "metadata": {},
   "outputs": [],
   "source": [
    "def f(x):\n",
    "    return x**2 # no side effects, but this is because I am a very good programmer\n",
    "\n",
    "g = lambda x: x**2 # Look mom, there is no side effects, obligated\n",
    "\n",
    "print(type(f), type(g)) # They are equivalent"
   ]
  },
  {
   "cell_type": "markdown",
   "metadata": {},
   "source": [
    "They are **Anonymous** and **OneLiners**, quite readable"
   ]
  },
  {
   "cell_type": "code",
   "execution_count": null,
   "metadata": {},
   "outputs": [],
   "source": [
    "(lambda x: g(x/2)*f(x*2) )(1) # Inliner function, maybe faster, maybe not, but clearer...sometimes"
   ]
  },
  {
   "cell_type": "code",
   "execution_count": null,
   "metadata": {},
   "outputs": [],
   "source": [
    "# Sort by the second element using a function to extract the element\n",
    "sorted([(\"Ava\",1), (\"Abigail\",2), (\"Anna\",3), (\"Amanda\",5), (\"Alexis\",5), (\"Alyssa\",6), (\"Amber\",7), (\"Andrea\", 8), ] , key=lambda t: t[1])"
   ]
  },
  {
   "cell_type": "markdown",
   "metadata": {},
   "source": [
    "## List Comprehensions\n",
    "Crea listas en una linea"
   ]
  },
  {
   "cell_type": "code",
   "execution_count": null,
   "metadata": {},
   "outputs": [],
   "source": [
    "[ g(x) for x in range(4)] # one liner yay!"
   ]
  },
  {
   "cell_type": "code",
   "execution_count": null,
   "metadata": {},
   "outputs": [],
   "source": [
    "[ x for x in range(100) if x%2 == 0 if x%5 == 0] # with conditions"
   ]
  },
  {
   "cell_type": "code",
   "execution_count": null,
   "metadata": {},
   "outputs": [],
   "source": [
    "{ f(x)%10 for x in range(10000)} # for sets"
   ]
  },
  {
   "cell_type": "code",
   "execution_count": null,
   "metadata": {},
   "outputs": [],
   "source": [
    "{ a : b for a in [\"a\", \"b\", \"c\"] for b in [1,2,3]} # and for dictionaries"
   ]
  },
  {
   "cell_type": "markdown",
   "metadata": {},
   "source": [
    "> every list comprehension can be rewritten in for loop, but every for loop can’t be rewritten in the form of list comprehension."
   ]
  },
  {
   "cell_type": "markdown",
   "metadata": {},
   "source": [
    "## Generators vs List\n",
    "They are Twins"
   ]
  },
  {
   "cell_type": "code",
   "execution_count": null,
   "metadata": {},
   "outputs": [],
   "source": [
    "def num_list(n):\n",
    "    result = []\n",
    "    for i in range(n):\n",
    "        result.append(i)\n",
    "    return result\n",
    "\n",
    "print(num_list(3))\n",
    "\n",
    "############## vs ##############\n",
    "\n",
    "def num_gen(n):\n",
    "    for i in range(n):\n",
    "        yield i\n",
    "\n",
    "nums = num_gen(10)\n",
    "print( next(nums), next(nums), next(nums) )"
   ]
  },
  {
   "cell_type": "code",
   "execution_count": null,
   "metadata": {},
   "outputs": [],
   "source": [
    "next(nums)"
   ]
  },
  {
   "cell_type": "markdown",
   "metadata": {},
   "source": [
    "#### Infinite list are a thing!"
   ]
  },
  {
   "cell_type": "code",
   "execution_count": null,
   "metadata": {},
   "outputs": [],
   "source": [
    "def inflist(n = 0):\n",
    "    while(True): # Look! It's FOREVER!\n",
    "        yield n\n",
    "        n+=1 # I can put the increment AFTER because this hasn't finished yet\n",
    "\n",
    "startingp = inflist(200)\n",
    "print([next(startingp) for i in range(100)])"
   ]
  },
  {
   "cell_type": "markdown",
   "metadata": {},
   "source": [
    "# Curry-ing\n",
    "This comes from Haskell ( Se llama Curry por Haskell Brooks Curry, no por el condimento )"
   ]
  },
  {
   "cell_type": "code",
   "execution_count": null,
   "metadata": {},
   "outputs": [],
   "source": [
    "def add(x):\n",
    "    def add1(y):\n",
    "        return lambda z: x+y+z # Funciones que retornan funciones\n",
    "    return add1\n",
    "\n",
    "print(add(1)(11)(57))\n",
    "\n",
    "addOne = add(1) # Aplicacion parcial\n",
    "\n",
    "print(addOne(11)(57))\n",
    "\n",
    "addOneAndEleven = addOne(11) # Otra aplicacion parcial\n",
    "\n",
    "print(addOneAndEleven(57))"
   ]
  },
  {
   "cell_type": "markdown",
   "metadata": {},
   "source": [
    "## Function Closures\n",
    "This comes from JavaScript"
   ]
  },
  {
   "cell_type": "code",
   "execution_count": null,
   "metadata": {},
   "outputs": [],
   "source": [
    "def counter():\n",
    "    d = {'i': 0} # I need a mutable 'cause Python doesn't let me change values after the function went out of scope\n",
    "    \n",
    "    def c(): # This function gives me access to counter()'s internals even when he dies, so return this function\n",
    "        d['i'] += 1\n",
    "        return d['i']\n",
    "    return c \n",
    "\n",
    "c = counter()\n",
    "print(c(), c(), c(), c(), \"<-- Modifying a variable inside a function\")"
   ]
  },
  {
   "cell_type": "code",
   "execution_count": null,
   "metadata": {},
   "outputs": [],
   "source": [
    "c()"
   ]
  },
  {
   "cell_type": "markdown",
   "metadata": {},
   "source": [
    "## Decorators\n",
    "Modifica funciones metiendolas en closures"
   ]
  },
  {
   "cell_type": "code",
   "execution_count": null,
   "metadata": {
    "scrolled": true
   },
   "outputs": [],
   "source": [
    "def my_decorator(func):\n",
    "    def wrapper(*args, **kwargs):\n",
    "        print(\"Yo soy un print decorativo\")\n",
    "        func(*args, **kwargs)\n",
    "        print(\"Y yo llamo a la función c():\", c())\n",
    "    return wrapper\n",
    "\n",
    "@my_decorator\n",
    "def sing_bday(name):\n",
    "    print(\"Happy birthday %s\"%(name))\n",
    "    \n",
    "sing_bday(\"to you\")"
   ]
  },
  {
   "cell_type": "markdown",
   "metadata": {},
   "source": [
    "Es solo _syntactic sugar_ de..."
   ]
  },
  {
   "cell_type": "code",
   "execution_count": null,
   "metadata": {},
   "outputs": [],
   "source": [
    "my_decorator( print )(\"hola\")"
   ]
  },
  {
   "cell_type": "markdown",
   "metadata": {},
   "source": [
    "## Functors\n",
    "From Ansi-C this is"
   ]
  },
  {
   "cell_type": "code",
   "execution_count": null,
   "metadata": {},
   "outputs": [],
   "source": [
    "class F:\n",
    "    '''Define un Objeto que sera una función'''\n",
    "    def __init__(self, mult, incr):\n",
    "        self.mult = mult\n",
    "        self.incr = incr\n",
    "    \n",
    "    def __call__(self, x):\n",
    "        return self.mult*x + self.incr\n",
    "\n",
    "f = F(2, 3)\n",
    "g = F(-1, -1)\n",
    "\n",
    "print(f(0), f(1), f(2), f(3))\n",
    "print(g(0), g(1), g(2), g(3))"
   ]
  },
  {
   "cell_type": "markdown",
   "metadata": {},
   "source": [
    "# Welcome to CC"
   ]
  },
  {
   "cell_type": "markdown",
   "metadata": {},
   "source": [
    "Una de las operaciones mas comunes en la computación general es la multiplicación de matrices con vectores, vamos a hacerlo:"
   ]
  },
  {
   "cell_type": "code",
   "execution_count": null,
   "metadata": {},
   "outputs": [],
   "source": [
    "import numpy as np\n",
    "\n",
    "M = np.arange(16, dtype=np.int).reshape(4, 4)\n",
    "v = np.arange(4, dtype=np.int)\n",
    "\n",
    "np.dot(M, v)"
   ]
  },
  {
   "cell_type": "code",
   "execution_count": null,
   "metadata": {},
   "outputs": [],
   "source": [
    "M, v"
   ]
  },
  {
   "cell_type": "markdown",
   "metadata": {},
   "source": [
    "Con Numpy podemos hacer monton de cosas divertidas, como generar matrices aleatorias de 20x20 de numeros complejos"
   ]
  },
  {
   "cell_type": "code",
   "execution_count": null,
   "metadata": {},
   "outputs": [],
   "source": [
    "M = (np.random.random(20*20) + np.random.random(20*20)*1j).reshape(20,20)\n",
    "M"
   ]
  },
  {
   "cell_type": "markdown",
   "metadata": {},
   "source": [
    "Podemos plotear los puntos con MatplotLib"
   ]
  },
  {
   "cell_type": "code",
   "execution_count": null,
   "metadata": {},
   "outputs": [],
   "source": [
    "import matplotlib.pyplot as plt\n",
    "\n",
    "plt.scatter(x=np.real( M.flatten() ), y=np.imag( M.flatten() ), )\n",
    "plt.ylabel(\"IM\")\n",
    "plt.xlabel(\"RE\")\n",
    "plt.show()"
   ]
  },
  {
   "cell_type": "markdown",
   "metadata": {},
   "source": [
    "Y le podemos calcular el radio espectral (Mayor valor absoluto de los valores propios)"
   ]
  },
  {
   "cell_type": "code",
   "execution_count": null,
   "metadata": {},
   "outputs": [],
   "source": [
    "np.max( np.abs( np.linalg.eig(M)[0] ) )"
   ]
  },
  {
   "cell_type": "markdown",
   "metadata": {},
   "source": [
    "Tambien podemos resolver sistemas de ecuaciones, como:\n",
    "\n",
    "> $x_1 + 1 = x_2$  \n",
    "> $x_1 + x_2 = 10$"
   ]
  },
  {
   "cell_type": "code",
   "execution_count": null,
   "metadata": {},
   "outputs": [],
   "source": [
    "np.linalg.solve( np.array( [ [1, -1], [1, 1] ] ), np.array([-1, 10]) )"
   ]
  },
  {
   "cell_type": "markdown",
   "metadata": {},
   "source": [
    "NumPy es como el hijo de SciPy, con SciPy podemos encontrar el minimo de $F(a_0,a_1)=\\displaystyle{\\sum_{i=1}^{1000}}(\\exp(x_i)-a_0-a_1\\,x_i)$, donde $x_i=-1+\\frac{2}{999}(i-1)$"
   ]
  },
  {
   "cell_type": "code",
   "execution_count": null,
   "metadata": {},
   "outputs": [],
   "source": [
    "import scipy.optimize as opt\n",
    "\n",
    "def x_i(i):\n",
    "    return -1 + (2 * (i-1) / 999)\n",
    "\n",
    "def F(a):\n",
    "    x = np.arange(1,1001)\n",
    "    x = (np.e ** x_i(x)) - a[0] - a[1] * x_i(x)\n",
    "    return x.sum()\n",
    "\n",
    "opt.minimize(F, [0,0], method=\"nelder-mead\")"
   ]
  },
  {
   "cell_type": "markdown",
   "metadata": {},
   "source": [
    "Pero yo quiero hacer __m a t e m a t i c a__  __s i m b o l i c a__ :'(   \n",
    "\n",
    "##### Aqui es donde aparece **SymPy**"
   ]
  },
  {
   "cell_type": "markdown",
   "metadata": {},
   "source": [
    "Con SymPy podemos calcular la derivada de $f(x)=\\sin\\left(\\sum_{i=1}^{20}x^i\\right)\\cos\\left(\\prod_{i=1}^{20}\\log(x+i)\\right)$ y mostrarla bonito"
   ]
  },
  {
   "cell_type": "code",
   "execution_count": null,
   "metadata": {},
   "outputs": [],
   "source": [
    "import sympy as sym\n",
    "\n",
    "sym.init_printing(use_unicode=True, use_latex=True) # Inicia una sesion de impresion\n",
    "\n",
    "x, i = sym.symbols('x i') # Define simbolos\n",
    "funct_1 = sym.sin(sym.Sum(x ** i, (i, 1, 20)))\n",
    "funct_2 = sym.cos(sym.Product(sym.log(x+i), (i, 1, 20)))\n",
    "(sym.diff(funct_1 * funct_2, x))"
   ]
  },
  {
   "cell_type": "markdown",
   "metadata": {},
   "source": [
    "# Ejercicios"
   ]
  },
  {
   "cell_type": "markdown",
   "metadata": {},
   "source": [
    "Busque numéricamente la raíz de $\\sin(x)$ que está entre $3$ y $3.2$. Ya sabemos que corresponde a $\\pi$, pero aquí se quiere encontrar una forma de determinar $\\pi$."
   ]
  },
  {
   "cell_type": "code",
   "execution_count": null,
   "metadata": {},
   "outputs": [],
   "source": [
    "import numpy as np\n",
    "from scipy import optimize as opt\n",
    "\n",
    "print(opt.brenth(np.sin, 3, 3.2))\n",
    "print(opt.bisect(np.sin, 3, 3.2))\n",
    "print(opt.newton(np.sin, 2, fprime=np.cos))\n",
    "\n",
    "def my_newton(f, fprime, x0, tol=1.48e-30):\n",
    "    x1 = x0 - (f(x0)/fprime(x0))\n",
    "    while(np.abs(x1-x0) > tol):\n",
    "        x0=x1\n",
    "        x1 = x0 - (f(x0)/fprime(x0))\n",
    "    return x1\n",
    "    \n",
    "import math\n",
    "my_newton(math.sin, math.cos, 3)"
   ]
  },
  {
   "cell_type": "markdown",
   "metadata": {},
   "source": [
    "Grafique $\\displaystyle{\\frac{\\sin(x)}{x}}$ en el intervalo $[-1,1]$. ¿Que pasó? ¿Cómo se arregla?"
   ]
  },
  {
   "cell_type": "code",
   "execution_count": null,
   "metadata": {
    "scrolled": true
   },
   "outputs": [],
   "source": [
    "import matplotlib.pyplot as plt\n",
    "import numpy as np\n",
    "\n",
    "xx = np.linspace(-1, 1, 51)\n",
    "yy = np.sin(xx) / xx\n",
    "plt.plot(xx, yy, \"r-\")\n",
    "plt.grid()\n",
    "plt.show()"
   ]
  },
  {
   "cell_type": "markdown",
   "metadata": {},
   "source": [
    "Construya los siguientes campos vectoriales en 2D: $\\langle x,y\\rangle$,$\\langle -y,x\\rangle$ y $\\langle x-y,x+y\\rangle$ . ¿Qué patron observa?"
   ]
  },
  {
   "cell_type": "code",
   "execution_count": null,
   "metadata": {},
   "outputs": [],
   "source": [
    "import matplotlib.pyplot as plt\n",
    "import numpy as np\n",
    "\n",
    "x = np.tile(np.linspace(-10, 10, 21),(21,1))\n",
    "y = np.tile(np.linspace(-10, 10, 21),(21,1)).T\n",
    "\n",
    "f, axarr = plt.subplots(nrows=1, ncols=4, figsize=(32,8), sharex=True, sharey=True)\n",
    "\n",
    "axarr[0].quiver(x, y, x, y, color=\"cyan\")\n",
    "axarr[1].quiver(x, y, -y, x, color=\"yellow\")\n",
    "axarr[2].quiver(x, y, x-y, x+y, color=\"magenta\")\n",
    "##\n",
    "axarr[3].quiver(x, y, x, y, color=\"cyan\")\n",
    "axarr[3].quiver(x, y, -y, x, color=\"yellow\")\n",
    "axarr[3].quiver(x, y, x-y, x+y, color=\"magenta\")\n",
    "##\n",
    "f.tight_layout(pad=0)\n",
    "f.show()"
   ]
  },
  {
   "cell_type": "markdown",
   "metadata": {},
   "source": [
    "Obtenga el $\\displaystyle{\\lim_{x\\rightarrow 0}\\frac{\\sin(x)}{x}}$"
   ]
  },
  {
   "cell_type": "code",
   "execution_count": null,
   "metadata": {},
   "outputs": [],
   "source": [
    "import sympy as sym\n",
    "sym.init_printing(use_unicode=True)\n",
    "\n",
    "x = sym.symbols('x')\n",
    "lim = sym.limit(sym.sin(x) / x, x, 0)\n",
    "lim"
   ]
  },
  {
   "cell_type": "markdown",
   "metadata": {},
   "source": [
    "Obtenga la parte real e imaginaria de la siguiente función compleja: $f(z)=z^2+1$, donde $z=x+\\mathit{i}\\,y$,  $\\mathit{i}=\\sqrt{-1}$"
   ]
  },
  {
   "cell_type": "code",
   "execution_count": null,
   "metadata": {},
   "outputs": [],
   "source": [
    "import sympy as sym\n",
    "x, y = sym.symbols('x y')\n",
    "\n",
    "sym.init_printing(use_unicode=True)\n",
    "\n",
    "z = x + sym.I*y\n",
    "function = z ** 2 + 1\n",
    "sym.expand(function)"
   ]
  },
  {
   "cell_type": "code",
   "execution_count": null,
   "metadata": {},
   "outputs": [],
   "source": [
    "print(\"Parte Real:\")\n",
    "sym.re(sym.expand(function))"
   ]
  },
  {
   "cell_type": "code",
   "execution_count": null,
   "metadata": {},
   "outputs": [],
   "source": [
    "print(\"Parte Imaginaria:\")\n",
    "sym.im(sym.expand(function))"
   ]
  },
  {
   "cell_type": "markdown",
   "metadata": {},
   "source": [
    "Considere los valores del cuadro  \n",
    "\n",
    "X| y\n",
    "--- | ---     \n",
    "-1,000 | 0,038\n",
    "-0,600 | 0,100\n",
    "-0,467 | 0,155\n",
    "-0,200 | 0,500\n",
    "-0,067 | 0,900   \n",
    "\n",
    "Escriba una función en Python que toma arreglos $X$ e $Y$ de los valores dados, y un valor de $x$ y obtiene el valor interpolado de $y$ correspondiente."
   ]
  },
  {
   "cell_type": "code",
   "execution_count": null,
   "metadata": {},
   "outputs": [],
   "source": [
    "from scipy import interpolate\n",
    "X = [-1, -.6, -.467, -.2, -.067]\n",
    "y = [.038, .1, .155, .5, .9]\n",
    "f = interpolate.interp1d(X, y, kind=\"linear\")\n",
    "f"
   ]
  },
  {
   "cell_type": "code",
   "execution_count": null,
   "metadata": {},
   "outputs": [],
   "source": [
    "import numpy as np\n",
    "import matplotlib.pyplot as plt\n",
    "\n",
    "xx = np.linspace(np.min(X), np.max(X), )\n",
    "yy = f(xx)\n",
    "plt.plot(X, y, 'o', xx, yy, '-')\n",
    "plt.show()"
   ]
  }
 ],
 "metadata": {
  "kernelspec": {
   "display_name": "Python 3",
   "language": "python",
   "name": "python3"
  },
  "language_info": {
   "codemirror_mode": {
    "name": "ipython",
    "version": 3
   },
   "file_extension": ".py",
   "mimetype": "text/x-python",
   "name": "python",
   "nbconvert_exporter": "python",
   "pygments_lexer": "ipython3",
   "version": "3.6.6"
  }
 },
 "nbformat": 4,
 "nbformat_minor": 2
}
